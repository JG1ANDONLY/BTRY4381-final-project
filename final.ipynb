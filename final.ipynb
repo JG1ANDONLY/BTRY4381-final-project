{
 "cells": [
  {
   "cell_type": "markdown",
   "id": "808a6ae2",
   "metadata": {},
   "source": [
    "# Final - James Guo (zg268)"
   ]
  },
  {
   "cell_type": "markdown",
   "id": "f7208c49",
   "metadata": {},
   "source": [
    "## Training/test split (5pts)"
   ]
  },
  {
   "cell_type": "code",
   "execution_count": 1,
   "id": "c3e929a6",
   "metadata": {},
   "outputs": [],
   "source": [
    "import pandas as pd\n",
    "import numpy as np\n",
    "from sklearn.model_selection import train_test_split\n",
    "import warnings\n",
    "warnings.filterwarnings(\"ignore\")"
   ]
  },
  {
   "cell_type": "code",
   "execution_count": 2,
   "id": "ae95f36a",
   "metadata": {},
   "outputs": [],
   "source": [
    "Labels = pd.read_csv('Labels.txt', sep='\\t')\n",
    "UniProt2Seq = pd.read_csv('UniProt2Seq.txt', sep='\\t')\n",
    "Expasy_AA_Scales = pd.read_csv('Expasy_AA_Scales.txt', sep='\\t')"
   ]
  },
  {
   "cell_type": "code",
   "execution_count": 3,
   "id": "e228c25d",
   "metadata": {},
   "outputs": [
    {
     "data": {
      "text/plain": [
       "U        1\n",
       "X        1\n",
       "W     6477\n",
       "C     9068\n",
       "M    12094\n",
       "H    12681\n",
       "Y    16637\n",
       "F    20696\n",
       "Q    23294\n",
       "N    23354\n",
       "R    28514\n",
       "I    28634\n",
       "D    29907\n",
       "P    29911\n",
       "T    30581\n",
       "K    33709\n",
       "V    35199\n",
       "G    37443\n",
       "E    38569\n",
       "S    40325\n",
       "A    40816\n",
       "L    51044\n",
       "Name: AA, dtype: int64"
      ]
     },
     "execution_count": 3,
     "metadata": {},
     "output_type": "execute_result"
    }
   ],
   "source": [
    "UniProt2Seq.AA.value_counts(ascending=True)"
   ]
  },
  {
   "cell_type": "code",
   "execution_count": 4,
   "id": "73b2890c",
   "metadata": {},
   "outputs": [
    {
     "data": {
      "text/plain": [
       "array(['A', 'C', 'E', 'D', 'G', 'F', 'I', 'H', 'K', 'M', 'L', 'N', 'Q',\n",
       "       'P', 'S', 'R', 'T', 'W', 'V', 'Y'], dtype=object)"
      ]
     },
     "execution_count": 4,
     "metadata": {},
     "output_type": "execute_result"
    }
   ],
   "source": [
    "Expasy_AA_Scales['Amino Acid'].values"
   ]
  },
  {
   "cell_type": "markdown",
   "id": "6edcd5da",
   "metadata": {},
   "source": [
    "**I noticed 'X' and 'U' are not in `Expasy_AA_Scales` column `Amino Acid`. I will drop these 2 observations.**"
   ]
  },
  {
   "cell_type": "code",
   "execution_count": 5,
   "id": "1bad578f",
   "metadata": {},
   "outputs": [],
   "source": [
    "index_to_drop = [UniProt2Seq.loc[UniProt2Seq['AA'] == 'U'].index, UniProt2Seq.loc[UniProt2Seq['AA'] == 'X'].index]\n",
    "UniProt2Seq.drop([index_to_drop[0][0], index_to_drop[1][0]], axis=0, inplace=True)"
   ]
  },
  {
   "cell_type": "code",
   "execution_count": 6,
   "id": "93bfc5f8",
   "metadata": {},
   "outputs": [
    {
     "data": {
      "text/plain": [
       "0    296315\n",
       "1     81999\n",
       "Name: Label, dtype: int64"
      ]
     },
     "execution_count": 6,
     "metadata": {},
     "output_type": "execute_result"
    }
   ],
   "source": [
    "Labels.Label.value_counts()"
   ]
  },
  {
   "cell_type": "markdown",
   "id": "1a13d9a6",
   "metadata": {},
   "source": [
    "**I noticed that the number of `0` is almost threefold the number of `1`, leading to class imbalance. I will down-sample class `0`.**"
   ]
  },
  {
   "cell_type": "code",
   "execution_count": 7,
   "id": "a281c720",
   "metadata": {},
   "outputs": [],
   "source": [
    "Labels_major= Labels[Labels.Label==0]\n",
    "Labels_minor = Labels[Labels.Label==1]\n",
    "Labels_major_downsampled = Labels_major.sample(len(Labels_minor), replace=False)\n",
    "df = Labels_major_downsampled.append(Labels_minor)\n",
    "df.sort_index(inplace=True)"
   ]
  },
  {
   "cell_type": "code",
   "execution_count": 8,
   "id": "eb165b70",
   "metadata": {},
   "outputs": [],
   "source": [
    "df_train, df_test = train_test_split(df, test_size=0.3)"
   ]
  },
  {
   "cell_type": "markdown",
   "id": "65825a50",
   "metadata": {},
   "source": [
    "## Feature engineering (20pts)"
   ]
  },
  {
   "cell_type": "markdown",
   "id": "642b201c",
   "metadata": {},
   "source": [
    "**I will set the index of `Labels` and `UniProt2Seq` to be (`UniProt`, `Position`) , and the index of `Expasy_AA_Scales` to be `Amino Acid`.**"
   ]
  },
  {
   "cell_type": "code",
   "execution_count": 9,
   "id": "6b51fcc3",
   "metadata": {},
   "outputs": [],
   "source": [
    "Labels.set_index(['UniProt', 'Position'], inplace=True)\n",
    "UniProt2Seq.set_index(['UniProt', 'Position'], inplace=True)\n",
    "Expasy_AA_Scales.set_index('Amino Acid', inplace=True)"
   ]
  },
  {
   "cell_type": "code",
   "execution_count": 10,
   "id": "24f8beca",
   "metadata": {},
   "outputs": [],
   "source": [
    "df_train_new = df_train.copy()"
   ]
  },
  {
   "cell_type": "markdown",
   "id": "acf3c2ae",
   "metadata": {},
   "source": [
    "**I will create an empty column called `AA` in `df_train_new`. I will set the index of `df_train_new` to be (`UniProt`, `Position`), and fill the corresponding `AA` values from `UniProt2Seq` into column `AA` in `df_train_new`.**"
   ]
  },
  {
   "cell_type": "code",
   "execution_count": 11,
   "id": "dca64e05",
   "metadata": {
    "scrolled": false
   },
   "outputs": [],
   "source": [
    "df_train_new['AA'] = ''\n",
    "df_train_new.set_index(['UniProt', 'Position'], inplace=True)\n",
    "df_train_new.sort_index(inplace=True)\n",
    "for i in df_train_new.index:\n",
    "    df_train_new.loc[i, 'AA'] = UniProt2Seq.loc[i].AA"
   ]
  },
  {
   "cell_type": "code",
   "execution_count": 12,
   "id": "03d0020c",
   "metadata": {},
   "outputs": [
    {
     "data": {
      "text/html": [
       "<div>\n",
       "<style scoped>\n",
       "    .dataframe tbody tr th:only-of-type {\n",
       "        vertical-align: middle;\n",
       "    }\n",
       "\n",
       "    .dataframe tbody tr th {\n",
       "        vertical-align: top;\n",
       "    }\n",
       "\n",
       "    .dataframe thead th {\n",
       "        text-align: right;\n",
       "    }\n",
       "</style>\n",
       "<table border=\"1\" class=\"dataframe\">\n",
       "  <thead>\n",
       "    <tr style=\"text-align: right;\">\n",
       "      <th></th>\n",
       "      <th></th>\n",
       "      <th>Label</th>\n",
       "      <th>AA</th>\n",
       "    </tr>\n",
       "    <tr>\n",
       "      <th>UniProt</th>\n",
       "      <th>Position</th>\n",
       "      <th></th>\n",
       "      <th></th>\n",
       "    </tr>\n",
       "  </thead>\n",
       "  <tbody>\n",
       "    <tr>\n",
       "      <th>P19367</th>\n",
       "      <th>474</th>\n",
       "      <td>1</td>\n",
       "      <td>L</td>\n",
       "    </tr>\n",
       "    <tr>\n",
       "      <th>P42227</th>\n",
       "      <th>382</th>\n",
       "      <td>0</td>\n",
       "      <td>R</td>\n",
       "    </tr>\n",
       "    <tr>\n",
       "      <th>P23919</th>\n",
       "      <th>57</th>\n",
       "      <td>1</td>\n",
       "      <td>L</td>\n",
       "    </tr>\n",
       "    <tr>\n",
       "      <th>P30429</th>\n",
       "      <th>185</th>\n",
       "      <td>0</td>\n",
       "      <td>D</td>\n",
       "    </tr>\n",
       "    <tr>\n",
       "      <th>Q96QU1</th>\n",
       "      <th>944</th>\n",
       "      <td>0</td>\n",
       "      <td>P</td>\n",
       "    </tr>\n",
       "  </tbody>\n",
       "</table>\n",
       "</div>"
      ],
      "text/plain": [
       "                  Label AA\n",
       "UniProt Position          \n",
       "P19367  474           1  L\n",
       "P42227  382           0  R\n",
       "P23919  57            1  L\n",
       "P30429  185           0  D\n",
       "Q96QU1  944           0  P"
      ]
     },
     "execution_count": 12,
     "metadata": {},
     "output_type": "execute_result"
    }
   ],
   "source": [
    "df_train_new.sample(5)"
   ]
  },
  {
   "cell_type": "markdown",
   "id": "ba00f3bc",
   "metadata": {},
   "source": [
    "**`get_neighbor(ID)`:** return a list of the neighboring AA letters within a 5-window with the given ID as the center.<br><br>\n",
    "**`get_ave(result)`:** return a pandas Series that contains the average of each feature."
   ]
  },
  {
   "cell_type": "code",
   "execution_count": 13,
   "id": "d1f84571",
   "metadata": {},
   "outputs": [],
   "source": [
    "def get_neighbor(ID):\n",
    "    UniProt = ID[0]\n",
    "    pos = ID[1]\n",
    "    length = len(UniProt2Seq.loc[UniProt])\n",
    "    if pos in [1, 2]:\n",
    "        temp = UniProt2Seq.loc[UniProt][:5]\n",
    "    elif pos in [length, length-1]:\n",
    "        temp = UniProt2Seq.loc[UniProt][length-4:]\n",
    "    else:\n",
    "        temp = UniProt2Seq.loc[UniProt][pos-3:pos+2]\n",
    "    return list(temp.AA)\n",
    "\n",
    "\n",
    "def get_ave(result):\n",
    "    return Expasy_AA_Scales.loc[result].mean()"
   ]
  },
  {
   "cell_type": "markdown",
   "id": "ab891bd5",
   "metadata": {},
   "source": [
    "I will call `get_ave(result)` on the returned list after calling `get_neighbor(ID)` for each index in the training set, and append the returned Series one by one to an empty DataFrame called `df_avg`."
   ]
  },
  {
   "cell_type": "code",
   "execution_count": 14,
   "id": "f158943d",
   "metadata": {},
   "outputs": [],
   "source": [
    "df_avg = pd.DataFrame()\n",
    "for i in df_train_new.index:\n",
    "    df_avg = df_avg.append(get_ave(get_neighbor(i)), ignore_index=True)"
   ]
  },
  {
   "cell_type": "markdown",
   "id": "fb90adf8",
   "metadata": {},
   "source": [
    "The correlation coefficient measures the strength of the relationship between two features. If the absolute value of the correlation coefficient is very high, that means the relationship between these two features is very high, **i.e., they are redundant features**. So, I will not include features whose absolute values of correlation coefficients are bigger than 0.8, "
   ]
  },
  {
   "cell_type": "code",
   "execution_count": 15,
   "id": "b31461e6",
   "metadata": {},
   "outputs": [
    {
     "name": "stdout",
     "output_type": "stream",
     "text": [
      "Selected Features: \n",
      "\n",
      "['%_accessible_residues', 'Average_flexibility', 'Bulkiness', 'Hphob__Welling_&_al', 'Number_of_codons', 'Ratio_hetero_endside', 'Recognition_factors', 'Relative_mutability']\n"
     ]
    }
   ],
   "source": [
    "corr_matrix = df_avg.corr()\n",
    "for i in range(len(corr_matrix)):\n",
    "    for x in range(len(corr_matrix.columns)):\n",
    "        if corr_matrix.iloc[i, x] != float(1) and abs(corr_matrix.iloc[i, x]) > 0.8:\n",
    "            corr_matrix.iloc[i, x] = np.nan\n",
    "corr_matrix.dropna(inplace=True)\n",
    "features = list(corr_matrix.index)\n",
    "print('Selected Features: \\n\\n' + str(features))"
   ]
  },
  {
   "cell_type": "markdown",
   "id": "a72d69f9",
   "metadata": {},
   "source": [
    "## Model selection (10pts)"
   ]
  },
  {
   "cell_type": "markdown",
   "id": "1776a2e3",
   "metadata": {},
   "source": [
    "Because `Label` is categorical variable, I will use three classifiers as models: Logistic Regression, Decission Tree Regressor, Random Forest. "
   ]
  },
  {
   "cell_type": "code",
   "execution_count": 16,
   "id": "05c43cda",
   "metadata": {},
   "outputs": [],
   "source": [
    "from sklearn.linear_model import LogisticRegression\n",
    "from sklearn.tree import DecisionTreeRegressor\n",
    "from sklearn.ensemble import RandomForestRegressor"
   ]
  },
  {
   "cell_type": "markdown",
   "id": "c4ca4d7b",
   "metadata": {},
   "source": [
    "- Logistic Regression"
   ]
  },
  {
   "cell_type": "code",
   "execution_count": 17,
   "id": "a77e6811",
   "metadata": {},
   "outputs": [
    {
     "name": "stdout",
     "output_type": "stream",
     "text": [
      "Logistic Regression accuracy: 0.594\n"
     ]
    }
   ],
   "source": [
    "log_model = LogisticRegression().fit(df_avg[features], df_train_new['Label'])\n",
    "log_model_accuracy = log_model.score(df_avg[features], df_train_new['Label'])\n",
    "print('Logistic Regression accuracy: {:.3f}'.format(log_model_accuracy))"
   ]
  },
  {
   "cell_type": "markdown",
   "id": "4642cc6a",
   "metadata": {},
   "source": [
    "- Decission Tree Regressor"
   ]
  },
  {
   "cell_type": "code",
   "execution_count": 18,
   "id": "348a3bea",
   "metadata": {},
   "outputs": [
    {
     "name": "stdout",
     "output_type": "stream",
     "text": [
      "Decission Tree Regressor accuracy: 0.367\n"
     ]
    }
   ],
   "source": [
    "tree_reg = DecisionTreeRegressor().fit(df_avg[features], df_train_new['Label'])\n",
    "tree_reg_accuracy = tree_reg.score(df_avg[features], df_train_new['Label'])\n",
    "print('Decission Tree Regressor accuracy: {:.3f}'.format(tree_reg_accuracy))"
   ]
  },
  {
   "cell_type": "markdown",
   "id": "6044ea57",
   "metadata": {},
   "source": [
    "- Random Forest"
   ]
  },
  {
   "cell_type": "code",
   "execution_count": 19,
   "id": "c9941900",
   "metadata": {},
   "outputs": [
    {
     "name": "stdout",
     "output_type": "stream",
     "text": [
      "Random Forest accuracy: 0.354\n"
     ]
    }
   ],
   "source": [
    "forest_reg = RandomForestRegressor().fit(df_avg[features], df_train_new['Label'])\n",
    "forest_reg_accuracy = forest_reg.score(df_avg[features], df_train_new['Label'])\n",
    "print('Random Forest accuracy: {:.3f}'.format(forest_reg_accuracy))"
   ]
  },
  {
   "cell_type": "markdown",
   "id": "b0beaa7b",
   "metadata": {},
   "source": [
    "Among the accuracy scores of the three models, I observed the Logistic Regression model has the highest accuracy score. Then, I will use cross-validation to compare the cross-validation scores of these three models."
   ]
  },
  {
   "cell_type": "markdown",
   "id": "89de5bed",
   "metadata": {},
   "source": [
    "## Cross-validation (5pts)"
   ]
  },
  {
   "cell_type": "code",
   "execution_count": 20,
   "id": "1e1da5ce",
   "metadata": {},
   "outputs": [],
   "source": [
    "def cross_validation(reg):\n",
    "    from sklearn.model_selection import cross_val_score\n",
    "    scores = cross_val_score(reg, df_avg[features], df_train_new['Label'], scoring = \"neg_mean_squared_error\", cv = 10)\n",
    "    rmse_scores = np.sqrt(-scores)\n",
    "    return rmse_scores\n",
    "\n",
    "\n",
    "def display_scores(scores):\n",
    "    print(\"Scores:\", scores)\n",
    "    print(\"Mean:\", scores.mean())\n",
    "    print(\"Standard deviation:\", scores.std())"
   ]
  },
  {
   "cell_type": "code",
   "execution_count": 21,
   "id": "fa9083a9",
   "metadata": {},
   "outputs": [
    {
     "name": "stdout",
     "output_type": "stream",
     "text": [
      "Logistic Regression: \n",
      "\n",
      "Scores: [0.6281714  0.63671084 0.63492983 0.63732619 0.6400539  0.64951067\n",
      " 0.63506701 0.63835044 0.62875321 0.62757441]\n",
      "Mean: 0.6356447896397599\n",
      "Standard deviation: 0.0062634533959885315\n",
      "\n",
      "\n",
      "Decission Tree Regressor: \n",
      "\n",
      "Scores: [0.53651783 0.54900119 0.53781788 0.54060151 0.54109064 0.55310241\n",
      " 0.54373735 0.53764469 0.53749411 0.54154192]\n",
      "Mean: 0.5418549528161053\n",
      "Standard deviation: 0.005146814388476923\n",
      "\n",
      "\n",
      "Random Forest: \n",
      "\n",
      "Scores: [0.50642343 0.51371954 0.51064647 0.51148453 0.51309082 0.52505745\n",
      " 0.51344774 0.50939456 0.50706136 0.51094705]\n",
      "Mean: 0.5121272957233012\n",
      "Standard deviation: 0.004919966700742121\n"
     ]
    }
   ],
   "source": [
    "print('Logistic Regression: \\n')\n",
    "display_scores(cross_validation(log_model))\n",
    "print('\\n')\n",
    "print('Decission Tree Regressor: \\n')\n",
    "display_scores(cross_validation(tree_reg))\n",
    "print('\\n')\n",
    "print('Random Forest: \\n')\n",
    "display_scores(cross_validation(forest_reg))"
   ]
  },
  {
   "cell_type": "markdown",
   "id": "a51ef2c3",
   "metadata": {},
   "source": [
    "My cross-validation verifies that the Logistic Regression model has the highest scores and performance. So, I will keep this model as my final model."
   ]
  },
  {
   "cell_type": "markdown",
   "id": "6f903137",
   "metadata": {},
   "source": [
    "## Hyperparameter tuning (10pts)"
   ]
  },
  {
   "cell_type": "markdown",
   "id": "d34aadc5",
   "metadata": {},
   "source": [
    "I will use Random Search, where random combinations of the hyperparameters are used to find the best solution."
   ]
  },
  {
   "cell_type": "code",
   "execution_count": 22,
   "id": "cc5d87e5",
   "metadata": {},
   "outputs": [
    {
     "data": {
      "text/plain": [
       "RandomizedSearchCV(cv=5, estimator=LogisticRegression(),\n",
       "                   param_distributions={'max_iter': <scipy.stats._distn_infrastructure.rv_frozen object at 0x7f9cb9735040>},\n",
       "                   scoring='neg_mean_squared_error')"
      ]
     },
     "execution_count": 22,
     "metadata": {},
     "output_type": "execute_result"
    }
   ],
   "source": [
    "from sklearn.model_selection import RandomizedSearchCV\n",
    "from scipy.stats import randint\n",
    "\n",
    "param_distribs = {'max_iter': randint(low=1, high=100),}\n",
    "rnd_search = RandomizedSearchCV(log_model, param_distributions=param_distribs, n_iter=10, cv=5, \\\n",
    "                                scoring='neg_mean_squared_error')\n",
    "rnd_search.fit(df_avg[features], df_train_new['Label'])"
   ]
  },
  {
   "cell_type": "code",
   "execution_count": 23,
   "id": "9dcc593b",
   "metadata": {},
   "outputs": [],
   "source": [
    "max_iter = rnd_search.best_params_['max_iter']"
   ]
  },
  {
   "cell_type": "code",
   "execution_count": 24,
   "id": "a5e60014",
   "metadata": {},
   "outputs": [],
   "source": [
    "final_model = LogisticRegression(max_iter=max_iter).fit(df_avg[features], df_train_new['Label'])"
   ]
  },
  {
   "cell_type": "markdown",
   "id": "2a735adb",
   "metadata": {},
   "source": [
    "## Test set 1 (10pts)"
   ]
  },
  {
   "cell_type": "markdown",
   "id": "cd216d06",
   "metadata": {},
   "source": [
    "- ROC curve with AUC value"
   ]
  },
  {
   "cell_type": "code",
   "execution_count": 25,
   "id": "14ff76b0",
   "metadata": {},
   "outputs": [],
   "source": [
    "from sklearn.metrics import roc_curve, roc_auc_score, precision_recall_curve, PrecisionRecallDisplay\n",
    "import matplotlib.pyplot as plt"
   ]
  },
  {
   "cell_type": "code",
   "execution_count": 26,
   "id": "869e3471",
   "metadata": {},
   "outputs": [],
   "source": [
    "df_test.set_index(['UniProt', 'Position'], inplace=True)\n",
    "df_test.sort_index(inplace=True)\n",
    "df_test_avg = pd.DataFrame()\n",
    "for i in df_test.index:\n",
    "    df_test_avg = df_test_avg.append(get_ave(get_neighbor(i)), ignore_index=True)"
   ]
  },
  {
   "cell_type": "code",
   "execution_count": 27,
   "id": "c06145c7",
   "metadata": {},
   "outputs": [
    {
     "name": "stdout",
     "output_type": "stream",
     "text": [
      "AUC score: \t 0.6247531019464968\n"
     ]
    }
   ],
   "source": [
    "prob = log_model.predict_proba(df_test_avg[features])[:, 1]\n",
    "auc_score = roc_auc_score(df_test.Label, prob)\n",
    "print('AUC score: \\t', auc_score)"
   ]
  },
  {
   "cell_type": "code",
   "execution_count": 28,
   "id": "47361bda",
   "metadata": {},
   "outputs": [
    {
     "data": {
      "image/png": "[encoded data removed]",
      "text/plain": [
       "<Figure size 432x432 with 1 Axes>"
      ]
     },
     "metadata": {
      "needs_background": "light"
     },
     "output_type": "display_data"
    }
   ],
   "source": [
    "pr, tpr, thresholds = roc_curve(df_test.Label, log_model.predict_proba(df_test_avg[features])[:, 1])\n",
    "plt.subplots(1, figsize=(6,6))\n",
    "plt.title('AUC score = ' + str(round(float(auc_score), 3)), fontsize=18)\n",
    "plt.plot(pr, tpr)\n",
    "plt.plot([0, 1])\n",
    "plt.plot([0, 0], [1, 0] , c=\".7\"), plt.plot([1, 1] , c=\".7\")\n",
    "plt.ylabel('True Positive Rate')\n",
    "plt.xlabel('False Positive Rate')\n",
    "plt.show()"
   ]
  },
  {
   "cell_type": "markdown",
   "id": "690e5a16",
   "metadata": {},
   "source": [
    "- P-R curve"
   ]
  },
  {
   "cell_type": "code",
   "execution_count": 29,
   "id": "ead70270",
   "metadata": {},
   "outputs": [
    {
     "data": {
      "image/png": "[encoded data removed]",
      "text/plain": [
       "<Figure size 432x432 with 1 Axes>"
      ]
     },
     "metadata": {
      "needs_background": "light"
     },
     "output_type": "display_data"
    }
   ],
   "source": [
    "precision, recall, thresholds = precision_recall_curve(df_test.Label, \\\n",
    "                                                       log_model.predict_proba(df_test_avg[features])[:, 1])\n",
    "plt.subplots(1, figsize=(6,6))\n",
    "plt.plot(recall, precision, color='red')\n",
    "plt.title('Precision-Recall Curve')\n",
    "plt.ylabel('Precision')\n",
    "plt.xlabel('Recall')\n",
    "plt.show()"
   ]
  },
  {
   "cell_type": "markdown",
   "id": "c4e3d530",
   "metadata": {},
   "source": [
    "## Model persistence (5pts)"
   ]
  },
  {
   "cell_type": "code",
   "execution_count": 30,
   "id": "c50cb457",
   "metadata": {},
   "outputs": [],
   "source": [
    "import joblib\n",
    "joblib.dump(final_model, \"final_model.pkl\")\n",
    "final_model = joblib.load(\"final_model.pkl\")"
   ]
  },
  {
   "cell_type": "markdown",
   "id": "dfbc24c7",
   "metadata": {},
   "source": [
    "### Output as a text file for website"
   ]
  },
  {
   "cell_type": "code",
   "execution_count": 31,
   "id": "3ec09a95",
   "metadata": {},
   "outputs": [],
   "source": [
    "label_avg = pd.DataFrame()\n",
    "for i in Labels.index:\n",
    "    label_avg = label_avg.append(get_ave(get_neighbor(i)).loc[features], ignore_index=True)"
   ]
  },
  {
   "cell_type": "code",
   "execution_count": 32,
   "id": "c90942b9",
   "metadata": {},
   "outputs": [],
   "source": [
    "pred = pd.DataFrame(final_model.predict(label_avg))\n",
    "pred.columns = ['pred']\n",
    "pred.index = Labels.index\n",
    "result = Labels.join(pred)\n",
    "result.to_csv('result.txt', sep='\\t')"
   ]
  },
  {
   "cell_type": "markdown",
   "id": "77b0d4de",
   "metadata": {},
   "source": [
    "## Test set 2 (20pts)"
   ]
  },
  {
   "cell_type": "markdown",
   "id": "ddeaf405",
   "metadata": {},
   "source": [
    "### Please run the entire cell when you are grading! Thank you!"
   ]
  },
  {
   "cell_type": "code",
   "execution_count": 33,
   "id": "742278ac",
   "metadata": {},
   "outputs": [],
   "source": [
    "# Please run the entire cell when you are grading! Thank you!\n",
    "\n",
    "def get_neighbor(ID):\n",
    "    UniProt = ID[0]\n",
    "    pos = ID[1]\n",
    "    length = len(UniProt2Seq.loc[UniProt])\n",
    "    if pos in [1, 2]:\n",
    "        temp = UniProt2Seq.loc[UniProt][:5]\n",
    "    elif pos in [length, length-1]:\n",
    "        temp = UniProt2Seq.loc[UniProt][length-4:]\n",
    "    else:\n",
    "        temp = UniProt2Seq.loc[UniProt][pos-3:pos+2]\n",
    "    return list(temp.AA)\n",
    "\n",
    "\n",
    "def get_ave(result):\n",
    "    return Expasy_AA_Scales.loc[result].mean()\n",
    "\n",
    "\n",
    "def final_function(testset2):\n",
    "    import pandas as pd\n",
    "    from sklearn.metrics import roc_auc_score\n",
    "    import joblib\n",
    "    test = pd.read_csv(testset2, sep='\\t')\n",
    "    UniProt2Seq = pd.read_csv('UniProt2Seq.txt', sep='\\t')\n",
    "    Expasy_AA_Scales = pd.read_csv('Expasy_AA_Scales.txt', sep='\\t')\n",
    "    \n",
    "    UniProt2Seq.set_index(['UniProt', 'Position'], inplace=True)\n",
    "    index_to_drop = [UniProt2Seq.loc[UniProt2Seq['AA'] == 'U'].index, UniProt2Seq.loc[UniProt2Seq['AA'] == 'X'].index]\n",
    "    UniProt2Seq.drop([index_to_drop[0][0], index_to_drop[1][0]], axis=0, inplace=True)\n",
    "    test.set_index(['UniProt', 'Position'], inplace=True)\n",
    "    Expasy_AA_Scales.set_index('Amino Acid', inplace=True)\n",
    "    final_model = joblib.load(\"final_model.pkl\")\n",
    "    \n",
    "    test_avg = pd.DataFrame()\n",
    "    for i in test.index:\n",
    "        test_avg = test_avg.append(get_ave(get_neighbor(i)), ignore_index=True)\n",
    "    prob = final_model.predict_proba(test_avg[features])[:, 1]\n",
    "    auc_score = roc_auc_score(test.Label, prob)\n",
    "    return auc_score"
   ]
  },
  {
   "cell_type": "markdown",
   "id": "2e914215",
   "metadata": {},
   "source": [
    "**Thank you very much for your reading and grading my final exam!**"
   ]
  }
 ],
 "metadata": {
  "kernelspec": {
   "display_name": "Python 3",
   "language": "python",
   "name": "python3"
  },
  "language_info": {
   "codemirror_mode": {
    "name": "ipython",
    "version": 3
   },
   "file_extension": ".py",
   "mimetype": "text/x-python",
   "name": "python",
   "nbconvert_exporter": "python",
   "pygments_lexer": "ipython3",
   "version": "3.8.8"
  }
 },
 "nbformat": 4,
 "nbformat_minor": 5
}
